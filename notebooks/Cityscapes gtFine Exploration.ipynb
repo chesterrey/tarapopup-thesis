{
 "cells": [
  {
   "cell_type": "code",
   "execution_count": 1,
   "id": "7f7c6661",
   "metadata": {},
   "outputs": [],
   "source": [
    "import cv2\n",
    "import numpy as np\n",
    "import os"
   ]
  },
  {
   "cell_type": "markdown",
   "id": "92c127b9",
   "metadata": {},
   "source": [
    "## Parameters for Image Directory"
   ]
  },
  {
   "cell_type": "code",
   "execution_count": 2,
   "id": "68b15ee1",
   "metadata": {},
   "outputs": [],
   "source": [
    "image_dir = \"/home/ralampay/Pictures/gtFine_trainvaltest/gtFine/train/aachen\"\n",
    "rgb_suffix = \"_gtFine_color.png\"\n",
    "polygon_json_suffix = \"_gtFine_polygons.json\""
   ]
  },
  {
   "cell_type": "markdown",
   "id": "32e16527",
   "metadata": {},
   "source": [
    "## Read and Store Images in Array"
   ]
  },
  {
   "cell_type": "code",
   "execution_count": 4,
   "id": "7d8b94fd",
   "metadata": {},
   "outputs": [
    {
     "name": "stdout",
     "output_type": "stream",
     "text": [
      "174\n",
      "174\n"
     ]
    }
   ],
   "source": [
    "image_files = []\n",
    "polygon_config_files = []\n",
    "\n",
    "for filename in os.listdir(image_dir):\n",
    "    if rgb_suffix in filename:\n",
    "        image_files.append(os.path.join(image_dir, filename))\n",
    "    elif polygon_json_suffix in filename:\n",
    "        polygon_config_files.append(os.path.join(image_dir, filename))\n",
    "        \n",
    "print(len(image_files))\n",
    "print(len(polygon_config_files))"
   ]
  },
  {
   "cell_type": "code",
   "execution_count": null,
   "id": "251696d4",
   "metadata": {},
   "outputs": [],
   "source": []
  }
 ],
 "metadata": {
  "kernelspec": {
   "display_name": "Python 3 (ipykernel)",
   "language": "python",
   "name": "python3"
  },
  "language_info": {
   "codemirror_mode": {
    "name": "ipython",
    "version": 3
   },
   "file_extension": ".py",
   "mimetype": "text/x-python",
   "name": "python",
   "nbconvert_exporter": "python",
   "pygments_lexer": "ipython3",
   "version": "3.10.11"
  }
 },
 "nbformat": 4,
 "nbformat_minor": 5
}
